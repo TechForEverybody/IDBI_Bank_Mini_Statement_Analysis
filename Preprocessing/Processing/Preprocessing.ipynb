{
 "cells": [
  {
   "cell_type": "markdown",
   "id": "4a752ebc",
   "metadata": {},
   "source": [
    "<h1 style=\"text-align: center;font-size: 36px;color:darkblue;\">Preprocessing</h1>"
   ]
  },
  {
   "cell_type": "markdown",
   "id": "74181a1d",
   "metadata": {
    "ExecuteTime": {
     "end_time": "2023-01-25T19:57:54.764294Z",
     "start_time": "2023-01-25T19:57:54.755294Z"
    }
   },
   "source": [
    "# Imports"
   ]
  },
  {
   "cell_type": "code",
   "execution_count": null,
   "id": "d9618349",
   "metadata": {
    "ExecuteTime": {
     "end_time": "2023-02-05T09:28:53.637562Z",
     "start_time": "2023-02-05T09:28:49.064227Z"
    }
   },
   "outputs": [],
   "source": [
    "import pandas\n",
    "import numpy\n",
    "import seaborn\n",
    "import matplotlib.pyplot as pyplot\n",
    "import tabula"
   ]
  },
  {
   "cell_type": "markdown",
   "id": "3f045b83",
   "metadata": {},
   "source": [
    "# Configurations"
   ]
  },
  {
   "cell_type": "code",
   "execution_count": null,
   "id": "895c1adf",
   "metadata": {
    "ExecuteTime": {
     "end_time": "2023-02-03T16:18:15.283936Z",
     "start_time": "2023-02-03T16:18:15.263936Z"
    }
   },
   "outputs": [],
   "source": [
    "# %matplotlib qt;\n",
    "%matplotlib inline\n",
    "pyplot.rcParams[\"figure.figsize\"] = (5, 3)"
   ]
  },
  {
   "cell_type": "code",
   "execution_count": null,
   "id": "32a08cc8",
   "metadata": {
    "ExecuteTime": {
     "end_time": "2023-02-03T16:29:37.048485Z",
     "start_time": "2023-02-03T16:29:35.330598Z"
    },
    "run_control": {
     "marked": false
    }
   },
   "outputs": [],
   "source": [
    "PDF_Data=tabula.read_pdf(\"../../Data/Main_Data/03022023_084003_204_IDBI_STATEMENT.pdf\",pages=\"all\")"
   ]
  },
  {
   "cell_type": "markdown",
   "id": "8cf9740d",
   "metadata": {},
   "source": [
    "# Data Exploration"
   ]
  },
  {
   "cell_type": "code",
   "execution_count": null,
   "id": "06c64567",
   "metadata": {
    "ExecuteTime": {
     "end_time": "2023-02-03T16:29:15.159627Z",
     "start_time": "2023-02-03T16:29:15.145815Z"
    },
    "scrolled": false
   },
   "outputs": [],
   "source": [
    "len(PDF_Data)"
   ]
  },
  {
   "cell_type": "code",
   "execution_count": null,
   "id": "e59636d6",
   "metadata": {
    "ExecuteTime": {
     "end_time": "2023-02-03T16:29:15.190638Z",
     "start_time": "2023-02-03T16:29:15.162628Z"
    }
   },
   "outputs": [],
   "source": [
    "PDF_Data[12]"
   ]
  },
  {
   "cell_type": "code",
   "execution_count": null,
   "id": "6ac017bc",
   "metadata": {
    "ExecuteTime": {
     "end_time": "2023-02-03T16:29:15.724686Z",
     "start_time": "2023-02-03T16:29:15.714686Z"
    }
   },
   "outputs": [],
   "source": [
    "PDF_Data[0].columns"
   ]
  },
  {
   "cell_type": "code",
   "execution_count": null,
   "id": "0eb1e075",
   "metadata": {
    "ExecuteTime": {
     "end_time": "2023-02-03T16:29:16.355621Z",
     "start_time": "2023-02-03T16:29:16.346585Z"
    },
    "scrolled": false
   },
   "outputs": [],
   "source": [
    "final_table=pandas.concat(PDF_Data)"
   ]
  },
  {
   "cell_type": "code",
   "execution_count": null,
   "id": "47f09bf9",
   "metadata": {
    "ExecuteTime": {
     "end_time": "2023-02-03T16:29:17.420023Z",
     "start_time": "2023-02-03T16:29:17.412003Z"
    }
   },
   "outputs": [],
   "source": [
    "final_table['Amount']=final_table['Amount'].apply(lambda x:float(x.replace(\",\",\"\")))"
   ]
  },
  {
   "cell_type": "code",
   "execution_count": null,
   "id": "5a8c7de0",
   "metadata": {
    "ExecuteTime": {
     "end_time": "2023-02-03T16:29:18.116751Z",
     "start_time": "2023-02-03T16:29:18.104759Z"
    }
   },
   "outputs": [],
   "source": [
    "final_table.info()"
   ]
  },
  {
   "cell_type": "code",
   "execution_count": null,
   "id": "34625cc3",
   "metadata": {
    "ExecuteTime": {
     "end_time": "2023-02-03T16:29:19.073112Z",
     "start_time": "2023-02-03T16:29:19.049954Z"
    }
   },
   "outputs": [],
   "source": [
    "final_table.describe()"
   ]
  },
  {
   "cell_type": "code",
   "execution_count": null,
   "id": "9134abe1",
   "metadata": {
    "ExecuteTime": {
     "end_time": "2023-02-03T16:29:19.889865Z",
     "start_time": "2023-02-03T16:29:19.872681Z"
    }
   },
   "outputs": [],
   "source": [
    "final_table"
   ]
  },
  {
   "cell_type": "code",
   "execution_count": null,
   "id": "d064f75a",
   "metadata": {
    "ExecuteTime": {
     "end_time": "2023-02-03T16:29:20.640390Z",
     "start_time": "2023-02-03T16:29:20.627386Z"
    }
   },
   "outputs": [],
   "source": [
    "final_table['Date']=pandas.to_datetime(final_table['Date'],dayfirst=True)"
   ]
  },
  {
   "cell_type": "code",
   "execution_count": null,
   "id": "cef905ae",
   "metadata": {
    "ExecuteTime": {
     "end_time": "2023-02-03T16:29:23.649624Z",
     "start_time": "2023-02-03T16:29:23.634590Z"
    }
   },
   "outputs": [],
   "source": [
    "final_table.info()"
   ]
  },
  {
   "cell_type": "code",
   "execution_count": null,
   "id": "ce8e6ae5",
   "metadata": {
    "ExecuteTime": {
     "end_time": "2023-02-03T16:29:24.136564Z",
     "start_time": "2023-02-03T16:29:24.120568Z"
    }
   },
   "outputs": [],
   "source": [
    "final_table"
   ]
  },
  {
   "cell_type": "code",
   "execution_count": null,
   "id": "31cda1b2",
   "metadata": {
    "ExecuteTime": {
     "end_time": "2023-02-03T16:29:25.092705Z",
     "start_time": "2023-02-03T16:29:25.074618Z"
    },
    "run_control": {
     "marked": false
    }
   },
   "outputs": [],
   "source": [
    "final_table=final_table.reset_index(drop=True)"
   ]
  },
  {
   "cell_type": "code",
   "execution_count": null,
   "id": "103aa1e5",
   "metadata": {
    "ExecuteTime": {
     "end_time": "2023-02-03T16:29:25.942440Z",
     "start_time": "2023-02-03T16:29:25.920457Z"
    },
    "run_control": {
     "marked": false
    }
   },
   "outputs": [],
   "source": [
    "final_table.sort_values(by=\"Date\")"
   ]
  },
  {
   "cell_type": "markdown",
   "id": "38caa282",
   "metadata": {},
   "source": [
    "# Data Saving"
   ]
  },
  {
   "cell_type": "code",
   "execution_count": null,
   "id": "a0f1072e",
   "metadata": {
    "ExecuteTime": {
     "end_time": "2023-02-03T16:29:27.043995Z",
     "start_time": "2023-02-03T16:29:27.019535Z"
    }
   },
   "outputs": [],
   "source": [
    "final_table.to_csv(\"../../Data/Preprocessed_Data/Statement_Data.csv\",index=False)"
   ]
  },
  {
   "cell_type": "code",
   "execution_count": null,
   "id": "098a0b44",
   "metadata": {},
   "outputs": [],
   "source": []
  }
 ],
 "metadata": {
  "kernelspec": {
   "display_name": "Python 3",
   "language": "python",
   "name": "python3"
  },
  "language_info": {
   "codemirror_mode": {
    "name": "ipython",
    "version": 3
   },
   "file_extension": ".py",
   "mimetype": "text/x-python",
   "name": "python",
   "nbconvert_exporter": "python",
   "pygments_lexer": "ipython3",
   "version": "3.10.8"
  },
  "vscode": {
   "interpreter": {
    "hash": "26de051ba29f2982a8de78e945f0abaf191376122a1563185a90213a26c5da77"
   }
  }
 },
 "nbformat": 4,
 "nbformat_minor": 5
}
