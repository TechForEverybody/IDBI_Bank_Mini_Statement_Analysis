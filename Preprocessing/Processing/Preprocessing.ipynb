{
 "cells": [
  {
   "cell_type": "markdown",
   "id": "4a752ebc",
   "metadata": {},
   "source": [
    "<h1 style=\"text-align: center;font-size: 36px;color:darkblue;\">Preprocessing</h1>"
   ]
  },
  {
   "cell_type": "markdown",
   "id": "74181a1d",
   "metadata": {
    "ExecuteTime": {
     "end_time": "2023-01-25T19:57:54.764294Z",
     "start_time": "2023-01-25T19:57:54.755294Z"
    }
   },
   "source": [
    "# Imports"
   ]
  },
  {
   "cell_type": "code",
   "execution_count": 1,
   "id": "d9618349",
   "metadata": {
    "ExecuteTime": {
     "end_time": "2023-02-05T09:28:53.637562Z",
     "start_time": "2023-02-05T09:28:49.064227Z"
    }
   },
   "outputs": [],
   "source": [
    "import pandas\n",
    "import numpy\n",
    "import seaborn\n",
    "import matplotlib.pyplot as pyplot\n",
    "import tabula"
   ]
  },
  {
   "cell_type": "markdown",
   "id": "3f045b83",
   "metadata": {},
   "source": [
    "# Configurations"
   ]
  },
  {
   "cell_type": "code",
   "execution_count": 80,
   "id": "895c1adf",
   "metadata": {
    "ExecuteTime": {
     "end_time": "2023-02-03T16:18:15.283936Z",
     "start_time": "2023-02-03T16:18:15.263936Z"
    }
   },
   "outputs": [],
   "source": [
    "# %matplotlib qt;\n",
    "%matplotlib inline\n",
    "pyplot.rcParams[\"figure.figsize\"] = (5, 3)"
   ]
  },
  {
   "cell_type": "code",
   "execution_count": 140,
   "id": "32a08cc8",
   "metadata": {
    "ExecuteTime": {
     "end_time": "2023-02-03T16:29:37.048485Z",
     "start_time": "2023-02-03T16:29:35.330598Z"
    },
    "run_control": {
     "marked": false
    }
   },
   "outputs": [],
   "source": [
    "PDF_Data=tabula.read_pdf(\"../../Data/Main_Data/03022023_084003_204_IDBI_STATEMENT.pdf\",pages=\"all\")"
   ]
  },
  {
   "cell_type": "markdown",
   "id": "8cf9740d",
   "metadata": {},
   "source": [
    "# Data Exploration"
   ]
  },
  {
   "cell_type": "code",
   "execution_count": 126,
   "id": "06c64567",
   "metadata": {
    "ExecuteTime": {
     "end_time": "2023-02-03T16:29:15.159627Z",
     "start_time": "2023-02-03T16:29:15.145815Z"
    },
    "scrolled": false
   },
   "outputs": [
    {
     "data": {
      "text/plain": [
       "13"
      ]
     },
     "execution_count": 126,
     "metadata": {},
     "output_type": "execute_result"
    }
   ],
   "source": [
    "len(PDF_Data)"
   ]
  },
  {
   "cell_type": "code",
   "execution_count": 127,
   "id": "e59636d6",
   "metadata": {
    "ExecuteTime": {
     "end_time": "2023-02-03T16:29:15.190638Z",
     "start_time": "2023-02-03T16:29:15.162628Z"
    }
   },
   "outputs": [
    {
     "data": {
      "text/html": [
       "<div>\n",
       "<style scoped>\n",
       "    .dataframe tbody tr th:only-of-type {\n",
       "        vertical-align: middle;\n",
       "    }\n",
       "\n",
       "    .dataframe tbody tr th {\n",
       "        vertical-align: top;\n",
       "    }\n",
       "\n",
       "    .dataframe thead th {\n",
       "        text-align: right;\n",
       "    }\n",
       "</style>\n",
       "<table border=\"1\" class=\"dataframe\">\n",
       "  <thead>\n",
       "    <tr style=\"text-align: right;\">\n",
       "      <th></th>\n",
       "      <th>Date</th>\n",
       "      <th>Description</th>\n",
       "      <th>Amount</th>\n",
       "      <th>Type</th>\n",
       "    </tr>\n",
       "  </thead>\n",
       "  <tbody>\n",
       "    <tr>\n",
       "      <th>0</th>\n",
       "      <td>15/04/2021</td>\n",
       "      <td>ACH-LIC OF INDIA-8842447050421</td>\n",
       "      <td>1,021</td>\n",
       "      <td>Dr</td>\n",
       "    </tr>\n",
       "    <tr>\n",
       "      <th>1</th>\n",
       "      <td>13/04/2021</td>\n",
       "      <td>209095-SVC-KOLABA</td>\n",
       "      <td>7,552</td>\n",
       "      <td>Cr</td>\n",
       "    </tr>\n",
       "    <tr>\n",
       "      <th>2</th>\n",
       "      <td>12/04/2021</td>\n",
       "      <td>ACH-LICHOUSINGFINLT-6121000026</td>\n",
       "      <td>18,496</td>\n",
       "      <td>Dr</td>\n",
       "    </tr>\n",
       "    <tr>\n",
       "      <th>3</th>\n",
       "      <td>12/04/2021</td>\n",
       "      <td>NEFT-N102211472291292-FORTRAN</td>\n",
       "      <td>4,071</td>\n",
       "      <td>Cr</td>\n",
       "    </tr>\n",
       "    <tr>\n",
       "      <th>4</th>\n",
       "      <td>09/04/2021</td>\n",
       "      <td>UPI/109920027350/1277000100139827@punb0127700</td>\n",
       "      <td>5,000</td>\n",
       "      <td>Dr</td>\n",
       "    </tr>\n",
       "    <tr>\n",
       "      <th>5</th>\n",
       "      <td>09/04/2021</td>\n",
       "      <td>NEFT-N099211469607825-PREMIUM</td>\n",
       "      <td>4,696</td>\n",
       "      <td>Cr</td>\n",
       "    </tr>\n",
       "    <tr>\n",
       "      <th>6</th>\n",
       "      <td>08/04/2021</td>\n",
       "      <td>NEFT-N098211468140616-PRATAP R</td>\n",
       "      <td>6,566</td>\n",
       "      <td>Cr</td>\n",
       "    </tr>\n",
       "    <tr>\n",
       "      <th>7</th>\n",
       "      <td>31/03/2021</td>\n",
       "      <td>NEFT-N090211457586230-PRATAP R</td>\n",
       "      <td>2,814</td>\n",
       "      <td>Cr</td>\n",
       "    </tr>\n",
       "    <tr>\n",
       "      <th>8</th>\n",
       "      <td>28/03/2021</td>\n",
       "      <td>UPI/108743853626/SUDHIR DATTARAM SHIRKE</td>\n",
       "      <td>1,000</td>\n",
       "      <td>Dr</td>\n",
       "    </tr>\n",
       "    <tr>\n",
       "      <th>9</th>\n",
       "      <td>26/03/2021</td>\n",
       "      <td>UPI/108501425069/GOOGLEPAY</td>\n",
       "      <td>2</td>\n",
       "      <td>Cr</td>\n",
       "    </tr>\n",
       "    <tr>\n",
       "      <th>10</th>\n",
       "      <td>26/03/2021</td>\n",
       "      <td>UPI/108501048027/3865000100077773@punb0386500</td>\n",
       "      <td>25,000</td>\n",
       "      <td>Dr</td>\n",
       "    </tr>\n",
       "    <tr>\n",
       "      <th>11</th>\n",
       "      <td>25/03/2021</td>\n",
       "      <td>NEFT-BKIDN21084265353-ARFISON</td>\n",
       "      <td>3,894</td>\n",
       "      <td>Cr</td>\n",
       "    </tr>\n",
       "    <tr>\n",
       "      <th>12</th>\n",
       "      <td>25/03/2021</td>\n",
       "      <td>NEFT-000331576903-VEDANT DYEST</td>\n",
       "      <td>26,432</td>\n",
       "      <td>Cr</td>\n",
       "    </tr>\n",
       "    <tr>\n",
       "      <th>13</th>\n",
       "      <td>25/03/2021</td>\n",
       "      <td>CA Keeping Chgs</td>\n",
       "      <td>649</td>\n",
       "      <td>Dr</td>\n",
       "    </tr>\n",
       "    <tr>\n",
       "      <th>14</th>\n",
       "      <td>24/03/2021</td>\n",
       "      <td>592976/ LIFE INSURANCE CORPO</td>\n",
       "      <td>13,539</td>\n",
       "      <td>Dr</td>\n",
       "    </tr>\n",
       "  </tbody>\n",
       "</table>\n",
       "</div>"
      ],
      "text/plain": [
       "          Date                                    Description  Amount Type\n",
       "0   15/04/2021                 ACH-LIC OF INDIA-8842447050421   1,021   Dr\n",
       "1   13/04/2021                              209095-SVC-KOLABA   7,552   Cr\n",
       "2   12/04/2021                 ACH-LICHOUSINGFINLT-6121000026  18,496   Dr\n",
       "3   12/04/2021                  NEFT-N102211472291292-FORTRAN   4,071   Cr\n",
       "4   09/04/2021  UPI/109920027350/1277000100139827@punb0127700   5,000   Dr\n",
       "5   09/04/2021                  NEFT-N099211469607825-PREMIUM   4,696   Cr\n",
       "6   08/04/2021                 NEFT-N098211468140616-PRATAP R   6,566   Cr\n",
       "7   31/03/2021                 NEFT-N090211457586230-PRATAP R   2,814   Cr\n",
       "8   28/03/2021        UPI/108743853626/SUDHIR DATTARAM SHIRKE   1,000   Dr\n",
       "9   26/03/2021                     UPI/108501425069/GOOGLEPAY       2   Cr\n",
       "10  26/03/2021  UPI/108501048027/3865000100077773@punb0386500  25,000   Dr\n",
       "11  25/03/2021                  NEFT-BKIDN21084265353-ARFISON   3,894   Cr\n",
       "12  25/03/2021                 NEFT-000331576903-VEDANT DYEST  26,432   Cr\n",
       "13  25/03/2021                                CA Keeping Chgs     649   Dr\n",
       "14  24/03/2021                   592976/ LIFE INSURANCE CORPO  13,539   Dr"
      ]
     },
     "execution_count": 127,
     "metadata": {},
     "output_type": "execute_result"
    }
   ],
   "source": [
    "PDF_Data[12]"
   ]
  },
  {
   "cell_type": "code",
   "execution_count": 128,
   "id": "6ac017bc",
   "metadata": {
    "ExecuteTime": {
     "end_time": "2023-02-03T16:29:15.724686Z",
     "start_time": "2023-02-03T16:29:15.714686Z"
    }
   },
   "outputs": [
    {
     "data": {
      "text/plain": [
       "Index(['Date', 'Description', 'Amount', 'Type'], dtype='object')"
      ]
     },
     "execution_count": 128,
     "metadata": {},
     "output_type": "execute_result"
    }
   ],
   "source": [
    "PDF_Data[0].columns"
   ]
  },
  {
   "cell_type": "code",
   "execution_count": 129,
   "id": "0eb1e075",
   "metadata": {
    "ExecuteTime": {
     "end_time": "2023-02-03T16:29:16.355621Z",
     "start_time": "2023-02-03T16:29:16.346585Z"
    },
    "scrolled": false
   },
   "outputs": [],
   "source": [
    "final_table=pandas.concat(PDF_Data)"
   ]
  },
  {
   "cell_type": "code",
   "execution_count": 130,
   "id": "47f09bf9",
   "metadata": {
    "ExecuteTime": {
     "end_time": "2023-02-03T16:29:17.420023Z",
     "start_time": "2023-02-03T16:29:17.412003Z"
    }
   },
   "outputs": [],
   "source": [
    "final_table['Amount']=final_table['Amount'].apply(lambda x:float(x.replace(\",\",\"\")))"
   ]
  },
  {
   "cell_type": "code",
   "execution_count": 131,
   "id": "5a8c7de0",
   "metadata": {
    "ExecuteTime": {
     "end_time": "2023-02-03T16:29:18.116751Z",
     "start_time": "2023-02-03T16:29:18.104759Z"
    }
   },
   "outputs": [
    {
     "name": "stdout",
     "output_type": "stream",
     "text": [
      "<class 'pandas.core.frame.DataFrame'>\n",
      "Int64Index: 615 entries, 0 to 14\n",
      "Data columns (total 4 columns):\n",
      " #   Column       Non-Null Count  Dtype  \n",
      "---  ------       --------------  -----  \n",
      " 0   Date         615 non-null    object \n",
      " 1   Description  615 non-null    object \n",
      " 2   Amount       615 non-null    float64\n",
      " 3   Type         615 non-null    object \n",
      "dtypes: float64(1), object(3)\n",
      "memory usage: 24.0+ KB\n"
     ]
    }
   ],
   "source": [
    "final_table.info()"
   ]
  },
  {
   "cell_type": "code",
   "execution_count": 132,
   "id": "34625cc3",
   "metadata": {
    "ExecuteTime": {
     "end_time": "2023-02-03T16:29:19.073112Z",
     "start_time": "2023-02-03T16:29:19.049954Z"
    }
   },
   "outputs": [
    {
     "data": {
      "text/html": [
       "<div>\n",
       "<style scoped>\n",
       "    .dataframe tbody tr th:only-of-type {\n",
       "        vertical-align: middle;\n",
       "    }\n",
       "\n",
       "    .dataframe tbody tr th {\n",
       "        vertical-align: top;\n",
       "    }\n",
       "\n",
       "    .dataframe thead th {\n",
       "        text-align: right;\n",
       "    }\n",
       "</style>\n",
       "<table border=\"1\" class=\"dataframe\">\n",
       "  <thead>\n",
       "    <tr style=\"text-align: right;\">\n",
       "      <th></th>\n",
       "      <th>Amount</th>\n",
       "    </tr>\n",
       "  </thead>\n",
       "  <tbody>\n",
       "    <tr>\n",
       "      <th>count</th>\n",
       "      <td>615.000000</td>\n",
       "    </tr>\n",
       "    <tr>\n",
       "      <th>mean</th>\n",
       "      <td>13416.659496</td>\n",
       "    </tr>\n",
       "    <tr>\n",
       "      <th>std</th>\n",
       "      <td>14800.130172</td>\n",
       "    </tr>\n",
       "    <tr>\n",
       "      <th>min</th>\n",
       "      <td>1.000000</td>\n",
       "    </tr>\n",
       "    <tr>\n",
       "      <th>25%</th>\n",
       "      <td>3369.500000</td>\n",
       "    </tr>\n",
       "    <tr>\n",
       "      <th>50%</th>\n",
       "      <td>8500.000000</td>\n",
       "    </tr>\n",
       "    <tr>\n",
       "      <th>75%</th>\n",
       "      <td>18496.000000</td>\n",
       "    </tr>\n",
       "    <tr>\n",
       "      <th>max</th>\n",
       "      <td>100000.000000</td>\n",
       "    </tr>\n",
       "  </tbody>\n",
       "</table>\n",
       "</div>"
      ],
      "text/plain": [
       "              Amount\n",
       "count     615.000000\n",
       "mean    13416.659496\n",
       "std     14800.130172\n",
       "min         1.000000\n",
       "25%      3369.500000\n",
       "50%      8500.000000\n",
       "75%     18496.000000\n",
       "max    100000.000000"
      ]
     },
     "execution_count": 132,
     "metadata": {},
     "output_type": "execute_result"
    }
   ],
   "source": [
    "final_table.describe()"
   ]
  },
  {
   "cell_type": "code",
   "execution_count": 133,
   "id": "9134abe1",
   "metadata": {
    "ExecuteTime": {
     "end_time": "2023-02-03T16:29:19.889865Z",
     "start_time": "2023-02-03T16:29:19.872681Z"
    }
   },
   "outputs": [
    {
     "data": {
      "text/html": [
       "<div>\n",
       "<style scoped>\n",
       "    .dataframe tbody tr th:only-of-type {\n",
       "        vertical-align: middle;\n",
       "    }\n",
       "\n",
       "    .dataframe tbody tr th {\n",
       "        vertical-align: top;\n",
       "    }\n",
       "\n",
       "    .dataframe thead th {\n",
       "        text-align: right;\n",
       "    }\n",
       "</style>\n",
       "<table border=\"1\" class=\"dataframe\">\n",
       "  <thead>\n",
       "    <tr style=\"text-align: right;\">\n",
       "      <th></th>\n",
       "      <th>Date</th>\n",
       "      <th>Description</th>\n",
       "      <th>Amount</th>\n",
       "      <th>Type</th>\n",
       "    </tr>\n",
       "  </thead>\n",
       "  <tbody>\n",
       "    <tr>\n",
       "      <th>0</th>\n",
       "      <td>31/01/2023</td>\n",
       "      <td>123058-YES-SKIN CONSTRA</td>\n",
       "      <td>5900.0</td>\n",
       "      <td>Cr</td>\n",
       "    </tr>\n",
       "    <tr>\n",
       "      <th>1</th>\n",
       "      <td>27/01/2023</td>\n",
       "      <td>ID072502/27-01-23 19:22:30 /000000784573</td>\n",
       "      <td>700.0</td>\n",
       "      <td>Dr</td>\n",
       "    </tr>\n",
       "    <tr>\n",
       "      <th>2</th>\n",
       "      <td>27/01/2023</td>\n",
       "      <td>000605-ICI-NEAUM</td>\n",
       "      <td>22420.0</td>\n",
       "      <td>Cr</td>\n",
       "    </tr>\n",
       "    <tr>\n",
       "      <th>3</th>\n",
       "      <td>21/01/2023</td>\n",
       "      <td>NEFT-CITIN23308404597-AGARWAL</td>\n",
       "      <td>6490.0</td>\n",
       "      <td>Cr</td>\n",
       "    </tr>\n",
       "    <tr>\n",
       "      <th>4</th>\n",
       "      <td>19/01/2023</td>\n",
       "      <td>003747-CIT-AND ON</td>\n",
       "      <td>8496.0</td>\n",
       "      <td>Cr</td>\n",
       "    </tr>\n",
       "    <tr>\n",
       "      <th>...</th>\n",
       "      <td>...</td>\n",
       "      <td>...</td>\n",
       "      <td>...</td>\n",
       "      <td>...</td>\n",
       "    </tr>\n",
       "    <tr>\n",
       "      <th>10</th>\n",
       "      <td>26/03/2021</td>\n",
       "      <td>UPI/108501048027/3865000100077773@punb0386500</td>\n",
       "      <td>25000.0</td>\n",
       "      <td>Dr</td>\n",
       "    </tr>\n",
       "    <tr>\n",
       "      <th>11</th>\n",
       "      <td>25/03/2021</td>\n",
       "      <td>NEFT-BKIDN21084265353-ARFISON</td>\n",
       "      <td>3894.0</td>\n",
       "      <td>Cr</td>\n",
       "    </tr>\n",
       "    <tr>\n",
       "      <th>12</th>\n",
       "      <td>25/03/2021</td>\n",
       "      <td>NEFT-000331576903-VEDANT DYEST</td>\n",
       "      <td>26432.0</td>\n",
       "      <td>Cr</td>\n",
       "    </tr>\n",
       "    <tr>\n",
       "      <th>13</th>\n",
       "      <td>25/03/2021</td>\n",
       "      <td>CA Keeping Chgs</td>\n",
       "      <td>649.0</td>\n",
       "      <td>Dr</td>\n",
       "    </tr>\n",
       "    <tr>\n",
       "      <th>14</th>\n",
       "      <td>24/03/2021</td>\n",
       "      <td>592976/ LIFE INSURANCE CORPO</td>\n",
       "      <td>13539.0</td>\n",
       "      <td>Dr</td>\n",
       "    </tr>\n",
       "  </tbody>\n",
       "</table>\n",
       "<p>615 rows × 4 columns</p>\n",
       "</div>"
      ],
      "text/plain": [
       "          Date                                    Description   Amount Type\n",
       "0   31/01/2023                        123058-YES-SKIN CONSTRA   5900.0   Cr\n",
       "1   27/01/2023       ID072502/27-01-23 19:22:30 /000000784573    700.0   Dr\n",
       "2   27/01/2023                               000605-ICI-NEAUM  22420.0   Cr\n",
       "3   21/01/2023                  NEFT-CITIN23308404597-AGARWAL   6490.0   Cr\n",
       "4   19/01/2023                              003747-CIT-AND ON   8496.0   Cr\n",
       "..         ...                                            ...      ...  ...\n",
       "10  26/03/2021  UPI/108501048027/3865000100077773@punb0386500  25000.0   Dr\n",
       "11  25/03/2021                  NEFT-BKIDN21084265353-ARFISON   3894.0   Cr\n",
       "12  25/03/2021                 NEFT-000331576903-VEDANT DYEST  26432.0   Cr\n",
       "13  25/03/2021                                CA Keeping Chgs    649.0   Dr\n",
       "14  24/03/2021                   592976/ LIFE INSURANCE CORPO  13539.0   Dr\n",
       "\n",
       "[615 rows x 4 columns]"
      ]
     },
     "execution_count": 133,
     "metadata": {},
     "output_type": "execute_result"
    }
   ],
   "source": [
    "final_table"
   ]
  },
  {
   "cell_type": "code",
   "execution_count": 134,
   "id": "d064f75a",
   "metadata": {
    "ExecuteTime": {
     "end_time": "2023-02-03T16:29:20.640390Z",
     "start_time": "2023-02-03T16:29:20.627386Z"
    }
   },
   "outputs": [],
   "source": [
    "final_table['Date']=pandas.to_datetime(final_table['Date'],dayfirst=True)"
   ]
  },
  {
   "cell_type": "code",
   "execution_count": 135,
   "id": "cef905ae",
   "metadata": {
    "ExecuteTime": {
     "end_time": "2023-02-03T16:29:23.649624Z",
     "start_time": "2023-02-03T16:29:23.634590Z"
    }
   },
   "outputs": [
    {
     "name": "stdout",
     "output_type": "stream",
     "text": [
      "<class 'pandas.core.frame.DataFrame'>\n",
      "Int64Index: 615 entries, 0 to 14\n",
      "Data columns (total 4 columns):\n",
      " #   Column       Non-Null Count  Dtype         \n",
      "---  ------       --------------  -----         \n",
      " 0   Date         615 non-null    datetime64[ns]\n",
      " 1   Description  615 non-null    object        \n",
      " 2   Amount       615 non-null    float64       \n",
      " 3   Type         615 non-null    object        \n",
      "dtypes: datetime64[ns](1), float64(1), object(2)\n",
      "memory usage: 24.0+ KB\n"
     ]
    }
   ],
   "source": [
    "final_table.info()"
   ]
  },
  {
   "cell_type": "code",
   "execution_count": 136,
   "id": "ce8e6ae5",
   "metadata": {
    "ExecuteTime": {
     "end_time": "2023-02-03T16:29:24.136564Z",
     "start_time": "2023-02-03T16:29:24.120568Z"
    }
   },
   "outputs": [
    {
     "data": {
      "text/html": [
       "<div>\n",
       "<style scoped>\n",
       "    .dataframe tbody tr th:only-of-type {\n",
       "        vertical-align: middle;\n",
       "    }\n",
       "\n",
       "    .dataframe tbody tr th {\n",
       "        vertical-align: top;\n",
       "    }\n",
       "\n",
       "    .dataframe thead th {\n",
       "        text-align: right;\n",
       "    }\n",
       "</style>\n",
       "<table border=\"1\" class=\"dataframe\">\n",
       "  <thead>\n",
       "    <tr style=\"text-align: right;\">\n",
       "      <th></th>\n",
       "      <th>Date</th>\n",
       "      <th>Description</th>\n",
       "      <th>Amount</th>\n",
       "      <th>Type</th>\n",
       "    </tr>\n",
       "  </thead>\n",
       "  <tbody>\n",
       "    <tr>\n",
       "      <th>0</th>\n",
       "      <td>2023-01-31</td>\n",
       "      <td>123058-YES-SKIN CONSTRA</td>\n",
       "      <td>5900.0</td>\n",
       "      <td>Cr</td>\n",
       "    </tr>\n",
       "    <tr>\n",
       "      <th>1</th>\n",
       "      <td>2023-01-27</td>\n",
       "      <td>ID072502/27-01-23 19:22:30 /000000784573</td>\n",
       "      <td>700.0</td>\n",
       "      <td>Dr</td>\n",
       "    </tr>\n",
       "    <tr>\n",
       "      <th>2</th>\n",
       "      <td>2023-01-27</td>\n",
       "      <td>000605-ICI-NEAUM</td>\n",
       "      <td>22420.0</td>\n",
       "      <td>Cr</td>\n",
       "    </tr>\n",
       "    <tr>\n",
       "      <th>3</th>\n",
       "      <td>2023-01-21</td>\n",
       "      <td>NEFT-CITIN23308404597-AGARWAL</td>\n",
       "      <td>6490.0</td>\n",
       "      <td>Cr</td>\n",
       "    </tr>\n",
       "    <tr>\n",
       "      <th>4</th>\n",
       "      <td>2023-01-19</td>\n",
       "      <td>003747-CIT-AND ON</td>\n",
       "      <td>8496.0</td>\n",
       "      <td>Cr</td>\n",
       "    </tr>\n",
       "    <tr>\n",
       "      <th>...</th>\n",
       "      <td>...</td>\n",
       "      <td>...</td>\n",
       "      <td>...</td>\n",
       "      <td>...</td>\n",
       "    </tr>\n",
       "    <tr>\n",
       "      <th>10</th>\n",
       "      <td>2021-03-26</td>\n",
       "      <td>UPI/108501048027/3865000100077773@punb0386500</td>\n",
       "      <td>25000.0</td>\n",
       "      <td>Dr</td>\n",
       "    </tr>\n",
       "    <tr>\n",
       "      <th>11</th>\n",
       "      <td>2021-03-25</td>\n",
       "      <td>NEFT-BKIDN21084265353-ARFISON</td>\n",
       "      <td>3894.0</td>\n",
       "      <td>Cr</td>\n",
       "    </tr>\n",
       "    <tr>\n",
       "      <th>12</th>\n",
       "      <td>2021-03-25</td>\n",
       "      <td>NEFT-000331576903-VEDANT DYEST</td>\n",
       "      <td>26432.0</td>\n",
       "      <td>Cr</td>\n",
       "    </tr>\n",
       "    <tr>\n",
       "      <th>13</th>\n",
       "      <td>2021-03-25</td>\n",
       "      <td>CA Keeping Chgs</td>\n",
       "      <td>649.0</td>\n",
       "      <td>Dr</td>\n",
       "    </tr>\n",
       "    <tr>\n",
       "      <th>14</th>\n",
       "      <td>2021-03-24</td>\n",
       "      <td>592976/ LIFE INSURANCE CORPO</td>\n",
       "      <td>13539.0</td>\n",
       "      <td>Dr</td>\n",
       "    </tr>\n",
       "  </tbody>\n",
       "</table>\n",
       "<p>615 rows × 4 columns</p>\n",
       "</div>"
      ],
      "text/plain": [
       "         Date                                    Description   Amount Type\n",
       "0  2023-01-31                        123058-YES-SKIN CONSTRA   5900.0   Cr\n",
       "1  2023-01-27       ID072502/27-01-23 19:22:30 /000000784573    700.0   Dr\n",
       "2  2023-01-27                               000605-ICI-NEAUM  22420.0   Cr\n",
       "3  2023-01-21                  NEFT-CITIN23308404597-AGARWAL   6490.0   Cr\n",
       "4  2023-01-19                              003747-CIT-AND ON   8496.0   Cr\n",
       "..        ...                                            ...      ...  ...\n",
       "10 2021-03-26  UPI/108501048027/3865000100077773@punb0386500  25000.0   Dr\n",
       "11 2021-03-25                  NEFT-BKIDN21084265353-ARFISON   3894.0   Cr\n",
       "12 2021-03-25                 NEFT-000331576903-VEDANT DYEST  26432.0   Cr\n",
       "13 2021-03-25                                CA Keeping Chgs    649.0   Dr\n",
       "14 2021-03-24                   592976/ LIFE INSURANCE CORPO  13539.0   Dr\n",
       "\n",
       "[615 rows x 4 columns]"
      ]
     },
     "execution_count": 136,
     "metadata": {},
     "output_type": "execute_result"
    }
   ],
   "source": [
    "final_table"
   ]
  },
  {
   "cell_type": "code",
   "execution_count": 137,
   "id": "31cda1b2",
   "metadata": {
    "ExecuteTime": {
     "end_time": "2023-02-03T16:29:25.092705Z",
     "start_time": "2023-02-03T16:29:25.074618Z"
    },
    "run_control": {
     "marked": false
    }
   },
   "outputs": [],
   "source": [
    "final_table=final_table.reset_index(drop=True)"
   ]
  },
  {
   "cell_type": "code",
   "execution_count": 138,
   "id": "103aa1e5",
   "metadata": {
    "ExecuteTime": {
     "end_time": "2023-02-03T16:29:25.942440Z",
     "start_time": "2023-02-03T16:29:25.920457Z"
    },
    "run_control": {
     "marked": false
    }
   },
   "outputs": [
    {
     "data": {
      "text/html": [
       "<div>\n",
       "<style scoped>\n",
       "    .dataframe tbody tr th:only-of-type {\n",
       "        vertical-align: middle;\n",
       "    }\n",
       "\n",
       "    .dataframe tbody tr th {\n",
       "        vertical-align: top;\n",
       "    }\n",
       "\n",
       "    .dataframe thead th {\n",
       "        text-align: right;\n",
       "    }\n",
       "</style>\n",
       "<table border=\"1\" class=\"dataframe\">\n",
       "  <thead>\n",
       "    <tr style=\"text-align: right;\">\n",
       "      <th></th>\n",
       "      <th>Date</th>\n",
       "      <th>Description</th>\n",
       "      <th>Amount</th>\n",
       "      <th>Type</th>\n",
       "    </tr>\n",
       "  </thead>\n",
       "  <tbody>\n",
       "    <tr>\n",
       "      <th>614</th>\n",
       "      <td>2021-03-24</td>\n",
       "      <td>592976/ LIFE INSURANCE CORPO</td>\n",
       "      <td>13539.0</td>\n",
       "      <td>Dr</td>\n",
       "    </tr>\n",
       "    <tr>\n",
       "      <th>611</th>\n",
       "      <td>2021-03-25</td>\n",
       "      <td>NEFT-BKIDN21084265353-ARFISON</td>\n",
       "      <td>3894.0</td>\n",
       "      <td>Cr</td>\n",
       "    </tr>\n",
       "    <tr>\n",
       "      <th>613</th>\n",
       "      <td>2021-03-25</td>\n",
       "      <td>CA Keeping Chgs</td>\n",
       "      <td>649.0</td>\n",
       "      <td>Dr</td>\n",
       "    </tr>\n",
       "    <tr>\n",
       "      <th>612</th>\n",
       "      <td>2021-03-25</td>\n",
       "      <td>NEFT-000331576903-VEDANT DYEST</td>\n",
       "      <td>26432.0</td>\n",
       "      <td>Cr</td>\n",
       "    </tr>\n",
       "    <tr>\n",
       "      <th>610</th>\n",
       "      <td>2021-03-26</td>\n",
       "      <td>UPI/108501048027/3865000100077773@punb0386500</td>\n",
       "      <td>25000.0</td>\n",
       "      <td>Dr</td>\n",
       "    </tr>\n",
       "    <tr>\n",
       "      <th>...</th>\n",
       "      <td>...</td>\n",
       "      <td>...</td>\n",
       "      <td>...</td>\n",
       "      <td>...</td>\n",
       "    </tr>\n",
       "    <tr>\n",
       "      <th>4</th>\n",
       "      <td>2023-01-19</td>\n",
       "      <td>003747-CIT-AND ON</td>\n",
       "      <td>8496.0</td>\n",
       "      <td>Cr</td>\n",
       "    </tr>\n",
       "    <tr>\n",
       "      <th>3</th>\n",
       "      <td>2023-01-21</td>\n",
       "      <td>NEFT-CITIN23308404597-AGARWAL</td>\n",
       "      <td>6490.0</td>\n",
       "      <td>Cr</td>\n",
       "    </tr>\n",
       "    <tr>\n",
       "      <th>2</th>\n",
       "      <td>2023-01-27</td>\n",
       "      <td>000605-ICI-NEAUM</td>\n",
       "      <td>22420.0</td>\n",
       "      <td>Cr</td>\n",
       "    </tr>\n",
       "    <tr>\n",
       "      <th>1</th>\n",
       "      <td>2023-01-27</td>\n",
       "      <td>ID072502/27-01-23 19:22:30 /000000784573</td>\n",
       "      <td>700.0</td>\n",
       "      <td>Dr</td>\n",
       "    </tr>\n",
       "    <tr>\n",
       "      <th>0</th>\n",
       "      <td>2023-01-31</td>\n",
       "      <td>123058-YES-SKIN CONSTRA</td>\n",
       "      <td>5900.0</td>\n",
       "      <td>Cr</td>\n",
       "    </tr>\n",
       "  </tbody>\n",
       "</table>\n",
       "<p>615 rows × 4 columns</p>\n",
       "</div>"
      ],
      "text/plain": [
       "          Date                                    Description   Amount Type\n",
       "614 2021-03-24                   592976/ LIFE INSURANCE CORPO  13539.0   Dr\n",
       "611 2021-03-25                  NEFT-BKIDN21084265353-ARFISON   3894.0   Cr\n",
       "613 2021-03-25                                CA Keeping Chgs    649.0   Dr\n",
       "612 2021-03-25                 NEFT-000331576903-VEDANT DYEST  26432.0   Cr\n",
       "610 2021-03-26  UPI/108501048027/3865000100077773@punb0386500  25000.0   Dr\n",
       "..         ...                                            ...      ...  ...\n",
       "4   2023-01-19                              003747-CIT-AND ON   8496.0   Cr\n",
       "3   2023-01-21                  NEFT-CITIN23308404597-AGARWAL   6490.0   Cr\n",
       "2   2023-01-27                               000605-ICI-NEAUM  22420.0   Cr\n",
       "1   2023-01-27       ID072502/27-01-23 19:22:30 /000000784573    700.0   Dr\n",
       "0   2023-01-31                        123058-YES-SKIN CONSTRA   5900.0   Cr\n",
       "\n",
       "[615 rows x 4 columns]"
      ]
     },
     "execution_count": 138,
     "metadata": {},
     "output_type": "execute_result"
    }
   ],
   "source": [
    "final_table.sort_values(by=\"Date\")"
   ]
  },
  {
   "cell_type": "markdown",
   "id": "38caa282",
   "metadata": {},
   "source": [
    "# Data Saving"
   ]
  },
  {
   "cell_type": "code",
   "execution_count": 139,
   "id": "a0f1072e",
   "metadata": {
    "ExecuteTime": {
     "end_time": "2023-02-03T16:29:27.043995Z",
     "start_time": "2023-02-03T16:29:27.019535Z"
    }
   },
   "outputs": [],
   "source": [
    "final_table.to_csv(\"../../Data/Preprocessed_Data/Statement_Data.csv\",index=False)"
   ]
  },
  {
   "cell_type": "code",
   "execution_count": null,
   "id": "098a0b44",
   "metadata": {},
   "outputs": [],
   "source": []
  }
 ],
 "metadata": {
  "kernelspec": {
   "display_name": "Python 3 (ipykernel)",
   "language": "python",
   "name": "python3"
  },
  "language_info": {
   "codemirror_mode": {
    "name": "ipython",
    "version": 3
   },
   "file_extension": ".py",
   "mimetype": "text/x-python",
   "name": "python",
   "nbconvert_exporter": "python",
   "pygments_lexer": "ipython3",
   "version": "3.10.8"
  }
 },
 "nbformat": 4,
 "nbformat_minor": 5
}
