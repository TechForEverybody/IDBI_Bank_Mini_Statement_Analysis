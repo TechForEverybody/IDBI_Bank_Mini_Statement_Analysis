{
 "cells": [
  {
   "cell_type": "markdown",
   "id": "4a752ebc",
   "metadata": {},
   "source": [
    "<h1 style=\"text-align: center;font-size: 36px;color:darkblue;\">Analysis</h1>"
   ]
  },
  {
   "cell_type": "markdown",
   "id": "74181a1d",
   "metadata": {
    "ExecuteTime": {
     "end_time": "2023-01-25T19:57:54.764294Z",
     "start_time": "2023-01-25T19:57:54.755294Z"
    }
   },
   "source": [
    "# Imports"
   ]
  },
  {
   "cell_type": "code",
   "execution_count": null,
   "id": "d9618349",
   "metadata": {
    "ExecuteTime": {
     "end_time": "2023-02-06T00:37:18.644932Z",
     "start_time": "2023-02-06T00:37:16.344706Z"
    }
   },
   "outputs": [],
   "source": [
    "import pandas\n",
    "import numpy\n",
    "import seaborn\n",
    "import matplotlib.pyplot as pyplot\n",
    "import re"
   ]
  },
  {
   "cell_type": "markdown",
   "id": "3f045b83",
   "metadata": {},
   "source": [
    "# Configurations"
   ]
  },
  {
   "cell_type": "code",
   "execution_count": null,
   "id": "895c1adf",
   "metadata": {
    "ExecuteTime": {
     "end_time": "2023-02-06T00:37:47.299552Z",
     "start_time": "2023-02-06T00:37:47.244389Z"
    }
   },
   "outputs": [],
   "source": [
    "# %matplotlib qt;\n",
    "%matplotlib inline\n",
    "pyplot.rcParams[\"figure.figsize\"] = (15, 12)"
   ]
  },
  {
   "cell_type": "code",
   "execution_count": null,
   "id": "8180aa5e",
   "metadata": {
    "ExecuteTime": {
     "end_time": "2023-02-06T01:51:15.162647Z",
     "start_time": "2023-02-06T01:51:15.150610Z"
    }
   },
   "outputs": [],
   "source": [
    "def getPaymentMethod(inputString):\n",
    "    if len(re.findall(\"^\\d{6}\",inputString.strip()))>0:\n",
    "        return \"Cheque\"\n",
    "    elif len(re.findall(\"UPI\",inputString.strip()))>0:\n",
    "        return \"UPI\"\n",
    "    elif len(re.findall(\"^NEFT\",inputString.strip()))>0:\n",
    "        return \"NEFT\"\n",
    "    elif len(re.findall(\"^IMPS\",inputString.strip()))>0:\n",
    "        return \"IMPS\"\n",
    "    elif len(re.findall(\"^ID|^nfs/|^cashnet/\",inputString.strip()))>0:\n",
    "        return \"ATM\"\n",
    "    elif len(re.findall(\"^SMS|^ANNUAL|Keeping|RENEWAL\",inputString.strip()))>0:\n",
    "        return \"SMS Charge\"\n",
    "    elif len(re.findall(\"^ANNUAL\",inputString.strip()))>0:\n",
    "        return \"Some ANNUAL Charge\"\n",
    "    elif len(re.findall(\"^ACH-\",inputString.strip()))>0:\n",
    "        return \"Automated Clearing House Payment\"\n",
    "    elif len(re.findall(\"POS/\",inputString.strip()))>0:\n",
    "        return \"Payment done at retail store\"\n",
    "    elif len(re.findall(\"[\\.\\/+\\:\\-\\_]\",inputString.strip()))==0:\n",
    "        return \"Unknown Type Payment\"\n",
    "    else:\n",
    "        return \"Other\""
   ]
  },
  {
   "cell_type": "code",
   "execution_count": null,
   "id": "9708706e",
   "metadata": {
    "ExecuteTime": {
     "end_time": "2023-02-06T01:51:12.029639Z",
     "start_time": "2023-02-06T01:51:12.010650Z"
    }
   },
   "outputs": [],
   "source": [
    "def getRecipientName(inputString):\n",
    "    if len(re.findall(\"^\\d{6}\",inputString.strip()))>0:\n",
    "        return inputString.strip()[7:].strip()\n",
    "    elif len(re.findall(\"UPI\",inputString.strip()))>0:\n",
    "        return re.split(\"[/@]\",inputString.strip())[-1].strip()\n",
    "    elif len(re.findall(\"^NEFT\",inputString.strip()))>0:\n",
    "        return inputString.strip().split(\"-\")[-1].strip()\n",
    "    elif len(re.findall(\"^ACH-\",inputString.strip()))>0:\n",
    "        return inputString.split('-')[1].strip()\n",
    "    elif len(re.findall(\"^IMPS\",inputString.strip()))>0:\n",
    "        return inputString.strip().split(\"/\")[2].strip()\n",
    "    elif len(re.findall(\"^SMS|^ANNUAL|Keeping|RENEWAL\",inputString.strip()))>0:\n",
    "        return \"IDBI Bank\"\n",
    "    elif len(re.findall(\"^ID|^nfs/|^cashnet/\",inputString.strip()))>0:\n",
    "        return \"Self\"\n",
    "    elif len(re.findall(\"POS/\",inputString.strip()))>0:\n",
    "        return inputString.strip().split(\"POS/\")[-1].strip()\n",
    "    elif len(re.findall(\"[\\.\\/+\\:\\-\\_]\",inputString.strip()))==0:\n",
    "        return inputString.strip()\n",
    "    else:\n",
    "        return \"Other\""
   ]
  },
  {
   "cell_type": "code",
   "execution_count": null,
   "id": "4c02d319",
   "metadata": {
    "ExecuteTime": {
     "end_time": "2023-02-06T00:37:49.742210Z",
     "start_time": "2023-02-06T00:37:49.720212Z"
    }
   },
   "outputs": [],
   "source": [
    "Statement = pandas.read_csv(\"../../Data/Preprocessed_Data/Statement_Data.csv\",parse_dates=True)"
   ]
  },
  {
   "cell_type": "code",
   "execution_count": null,
   "id": "5102a227",
   "metadata": {
    "ExecuteTime": {
     "end_time": "2023-02-06T00:37:50.302962Z",
     "start_time": "2023-02-06T00:37:50.294961Z"
    },
    "scrolled": false
   },
   "outputs": [],
   "source": [
    "# Statement=Statement.rename(columns={\"Unnamed: 0\":\"index\"})"
   ]
  },
  {
   "cell_type": "markdown",
   "id": "572f472e",
   "metadata": {},
   "source": [
    "# Exploratory Data Analysis"
   ]
  },
  {
   "cell_type": "code",
   "execution_count": null,
   "id": "632aafa1",
   "metadata": {
    "ExecuteTime": {
     "end_time": "2023-02-06T00:37:51.843954Z",
     "start_time": "2023-02-06T00:37:51.819904Z"
    }
   },
   "outputs": [],
   "source": [
    "Statement"
   ]
  },
  {
   "cell_type": "code",
   "execution_count": null,
   "id": "327bbdaf",
   "metadata": {
    "ExecuteTime": {
     "end_time": "2023-02-06T00:37:52.498559Z",
     "start_time": "2023-02-06T00:37:52.441165Z"
    }
   },
   "outputs": [],
   "source": [
    "Statement.info()"
   ]
  },
  {
   "cell_type": "code",
   "execution_count": null,
   "id": "c9af9104",
   "metadata": {
    "ExecuteTime": {
     "end_time": "2023-02-06T00:37:55.234585Z",
     "start_time": "2023-02-06T00:37:55.205609Z"
    }
   },
   "outputs": [],
   "source": [
    "Statement.describe()"
   ]
  },
  {
   "cell_type": "code",
   "execution_count": null,
   "id": "765dc649",
   "metadata": {
    "ExecuteTime": {
     "end_time": "2023-02-06T00:37:56.447393Z",
     "start_time": "2023-02-06T00:37:56.425394Z"
    }
   },
   "outputs": [],
   "source": [
    "Statement"
   ]
  },
  {
   "cell_type": "code",
   "execution_count": null,
   "id": "572cae9e",
   "metadata": {
    "ExecuteTime": {
     "end_time": "2023-02-06T00:37:56.987614Z",
     "start_time": "2023-02-06T00:37:56.964623Z"
    }
   },
   "outputs": [],
   "source": [
    "Statement['Amount']"
   ]
  },
  {
   "cell_type": "code",
   "execution_count": null,
   "id": "98e56e67",
   "metadata": {
    "ExecuteTime": {
     "end_time": "2023-02-06T00:37:57.761198Z",
     "start_time": "2023-02-06T00:37:57.749200Z"
    },
    "scrolled": false
   },
   "outputs": [],
   "source": [
    "Statement=Statement.sort_index(ascending=False)\n",
    "Cumulative_Balance=0\n",
    "Cumulative_Balances=[]\n",
    "types=list(Statement['Type'])\n",
    "Amounts=list(Statement['Amount'])\n",
    "for index in range(len(Amounts)):\n",
    "    if types[index].strip()==\"Dr\":\n",
    "        Cumulative_Balance-=round(Amounts[index],2)\n",
    "    elif types[index].strip()==\"Cr\":\n",
    "        Cumulative_Balance+=round(Amounts[index],2)\n",
    "    Cumulative_Balances.append(Cumulative_Balance)\n",
    "Statement['Cumulative_Balance']=Cumulative_Balances"
   ]
  },
  {
   "cell_type": "code",
   "execution_count": null,
   "id": "17e8b6d9",
   "metadata": {
    "ExecuteTime": {
     "end_time": "2023-02-06T00:37:58.664439Z",
     "start_time": "2023-02-06T00:37:58.636442Z"
    }
   },
   "outputs": [],
   "source": [
    "Statement"
   ]
  },
  {
   "cell_type": "code",
   "execution_count": null,
   "id": "f67d3e38",
   "metadata": {
    "ExecuteTime": {
     "end_time": "2023-02-06T00:38:07.252878Z",
     "start_time": "2023-02-06T00:38:07.230847Z"
    }
   },
   "outputs": [],
   "source": [
    "Statement.sort_values(by=\"Date\",ascending=True)"
   ]
  },
  {
   "cell_type": "code",
   "execution_count": null,
   "id": "3da163d1",
   "metadata": {
    "ExecuteTime": {
     "end_time": "2023-02-06T00:38:11.779639Z",
     "start_time": "2023-02-06T00:38:11.764641Z"
    }
   },
   "outputs": [],
   "source": [
    "Statement['Description'].value_counts()"
   ]
  },
  {
   "cell_type": "code",
   "execution_count": null,
   "id": "f28c05a3",
   "metadata": {
    "ExecuteTime": {
     "end_time": "2023-02-06T00:38:22.668220Z",
     "start_time": "2023-02-06T00:38:22.649198Z"
    }
   },
   "outputs": [],
   "source": [
    "Statement['Type'].value_counts()"
   ]
  },
  {
   "cell_type": "code",
   "execution_count": null,
   "id": "49ef4814",
   "metadata": {
    "ExecuteTime": {
     "end_time": "2023-02-06T00:38:24.050574Z",
     "start_time": "2023-02-06T00:38:24.027559Z"
    }
   },
   "outputs": [],
   "source": [
    "Statement['Payment_Mode']=Statement['Description'].apply(getPaymentMethod)"
   ]
  },
  {
   "cell_type": "code",
   "execution_count": null,
   "id": "7bac0a73",
   "metadata": {
    "ExecuteTime": {
     "end_time": "2023-02-06T00:38:24.491124Z",
     "start_time": "2023-02-06T00:38:24.483158Z"
    }
   },
   "outputs": [],
   "source": [
    "Statement['Recipient_Name']=Statement['Description'].apply(getRecipientName)"
   ]
  },
  {
   "cell_type": "code",
   "execution_count": null,
   "id": "57f1fcd4",
   "metadata": {
    "ExecuteTime": {
     "end_time": "2023-02-06T00:38:25.487098Z",
     "start_time": "2023-02-06T00:38:25.461094Z"
    }
   },
   "outputs": [],
   "source": [
    "Statement"
   ]
  },
  {
   "cell_type": "code",
   "execution_count": null,
   "id": "ec025e43",
   "metadata": {
    "ExecuteTime": {
     "end_time": "2023-02-06T01:45:18.998894Z",
     "start_time": "2023-02-06T01:45:18.940930Z"
    }
   },
   "outputs": [],
   "source": [
    "Statement['Payment_Mode'].value_counts()"
   ]
  },
  {
   "cell_type": "code",
   "execution_count": null,
   "id": "b844cc50",
   "metadata": {
    "ExecuteTime": {
     "end_time": "2023-02-06T02:34:51.548479Z",
     "start_time": "2023-02-06T02:34:51.519475Z"
    }
   },
   "outputs": [],
   "source": [
    "Statement[Statement['Payment_Mode']==\"Automated Clearing House Payment\"].sort_values(by=\"Date\",ascending=False)"
   ]
  },
  {
   "cell_type": "code",
   "execution_count": null,
   "id": "a28d7937",
   "metadata": {
    "ExecuteTime": {
     "end_time": "2023-02-06T00:38:27.116491Z",
     "start_time": "2023-02-06T00:38:27.096455Z"
    }
   },
   "outputs": [],
   "source": [
    "Statement[Statement['Type']==\"Cr\"]"
   ]
  },
  {
   "cell_type": "code",
   "execution_count": null,
   "id": "1ab92704",
   "metadata": {
    "ExecuteTime": {
     "end_time": "2023-02-06T00:38:27.651443Z",
     "start_time": "2023-02-06T00:38:27.633406Z"
    }
   },
   "outputs": [],
   "source": [
    "Statement[Statement['Type']==\"Dr\"]"
   ]
  },
  {
   "cell_type": "code",
   "execution_count": null,
   "id": "7be16364",
   "metadata": {
    "ExecuteTime": {
     "end_time": "2023-02-06T00:38:29.050067Z",
     "start_time": "2023-02-06T00:38:29.029056Z"
    }
   },
   "outputs": [],
   "source": [
    "Statement[Statement['Payment_Mode']==\"Other\"]"
   ]
  },
  {
   "cell_type": "code",
   "execution_count": null,
   "id": "1e1567e0",
   "metadata": {
    "ExecuteTime": {
     "end_time": "2023-02-06T00:38:29.584874Z",
     "start_time": "2023-02-06T00:38:29.564834Z"
    }
   },
   "outputs": [],
   "source": [
    "Statement['Recipient_Name'].value_counts().head(20)"
   ]
  },
  {
   "cell_type": "code",
   "execution_count": null,
   "id": "4dd59662",
   "metadata": {
    "ExecuteTime": {
     "end_time": "2023-02-06T00:38:30.811173Z",
     "start_time": "2023-02-06T00:38:30.400499Z"
    }
   },
   "outputs": [],
   "source": [
    "Statement['Payment_Mode'].value_counts().head(20).plot.pie()"
   ]
  },
  {
   "cell_type": "code",
   "execution_count": null,
   "id": "81fcdac0",
   "metadata": {
    "ExecuteTime": {
     "end_time": "2023-02-06T00:38:31.014970Z",
     "start_time": "2023-02-06T00:38:30.988984Z"
    }
   },
   "outputs": [],
   "source": [
    "Statement[Statement['Recipient_Name']==\"Other\"]"
   ]
  },
  {
   "cell_type": "code",
   "execution_count": null,
   "id": "9cf74d3b",
   "metadata": {
    "ExecuteTime": {
     "end_time": "2023-02-06T00:38:31.745611Z",
     "start_time": "2023-02-06T00:38:31.526173Z"
    }
   },
   "outputs": [],
   "source": [
    "Statement.plot(y=\"Cumulative_Balance\")"
   ]
  },
  {
   "cell_type": "code",
   "execution_count": null,
   "id": "59a30862",
   "metadata": {
    "ExecuteTime": {
     "end_time": "2023-02-05T15:56:42.562436Z",
     "start_time": "2023-02-05T15:56:42.539435Z"
    }
   },
   "outputs": [],
   "source": [
    "list(Statement['Cumulative_Balance'])"
   ]
  },
  {
   "cell_type": "code",
   "execution_count": null,
   "id": "4124cdb4",
   "metadata": {
    "ExecuteTime": {
     "end_time": "2023-02-05T16:00:20.214138Z",
     "start_time": "2023-02-05T16:00:20.198141Z"
    }
   },
   "outputs": [],
   "source": [
    "list(Statement['Date'].to_numpy())"
   ]
  },
  {
   "cell_type": "code",
   "execution_count": null,
   "id": "e849805a",
   "metadata": {
    "ExecuteTime": {
     "end_time": "2023-02-05T15:59:26.984302Z",
     "start_time": "2023-02-05T15:59:26.965316Z"
    }
   },
   "outputs": [],
   "source": [
    "list(range(len(Statement['Cumulative_Balance'])))"
   ]
  },
  {
   "cell_type": "code",
   "execution_count": null,
   "id": "cf527ef0",
   "metadata": {},
   "outputs": [],
   "source": []
  }
 ],
 "metadata": {
  "kernelspec": {
   "display_name": "Python 3",
   "language": "python",
   "name": "python3"
  },
  "language_info": {
   "codemirror_mode": {
    "name": "ipython",
    "version": 3
   },
   "file_extension": ".py",
   "mimetype": "text/x-python",
   "name": "python",
   "nbconvert_exporter": "python",
   "pygments_lexer": "ipython3",
   "version": "3.10.8"
  },
  "vscode": {
   "interpreter": {
    "hash": "26de051ba29f2982a8de78e945f0abaf191376122a1563185a90213a26c5da77"
   }
  }
 },
 "nbformat": 4,
 "nbformat_minor": 5
}
